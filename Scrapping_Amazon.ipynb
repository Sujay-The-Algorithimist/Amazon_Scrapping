{
 "cells": [
  {
   "cell_type": "markdown",
   "id": "3a8741ce-ce5c-4d97-97f4-be3dc18bc47c",
   "metadata": {},
   "source": [
    "# Importing Modules"
   ]
  },
  {
   "cell_type": "code",
   "execution_count": 123,
   "id": "edf480d5-66ff-4e99-9410-70fe4b8aa52b",
   "metadata": {},
   "outputs": [
    {
     "name": "stdout",
     "output_type": "stream",
     "text": [
      "Requirement already satisfied: selenium in c:\\users\\sujay das\\anaconda3\\lib\\site-packages (4.34.0)\n",
      "Requirement already satisfied: urllib3~=2.4.0 in c:\\users\\sujay das\\anaconda3\\lib\\site-packages (from urllib3[socks]~=2.4.0->selenium) (2.4.0)\n",
      "Requirement already satisfied: trio~=0.30.0 in c:\\users\\sujay das\\anaconda3\\lib\\site-packages (from selenium) (0.30.0)\n",
      "Requirement already satisfied: trio-websocket~=0.12.2 in c:\\users\\sujay das\\anaconda3\\lib\\site-packages (from selenium) (0.12.2)\n",
      "Requirement already satisfied: certifi>=2025.4.26 in c:\\users\\sujay das\\anaconda3\\lib\\site-packages (from selenium) (2025.4.26)\n",
      "Requirement already satisfied: typing_extensions~=4.14.0 in c:\\users\\sujay das\\anaconda3\\lib\\site-packages (from selenium) (4.14.1)\n",
      "Requirement already satisfied: websocket-client~=1.8.0 in c:\\users\\sujay das\\anaconda3\\lib\\site-packages (from selenium) (1.8.0)\n",
      "Requirement already satisfied: attrs>=23.2.0 in c:\\users\\sujay das\\anaconda3\\lib\\site-packages (from trio~=0.30.0->selenium) (25.3.0)\n",
      "Requirement already satisfied: sortedcontainers in c:\\users\\sujay das\\anaconda3\\lib\\site-packages (from trio~=0.30.0->selenium) (2.4.0)\n",
      "Requirement already satisfied: idna in c:\\users\\sujay das\\anaconda3\\lib\\site-packages (from trio~=0.30.0->selenium) (3.7)\n",
      "Requirement already satisfied: outcome in c:\\users\\sujay das\\anaconda3\\lib\\site-packages (from trio~=0.30.0->selenium) (1.3.0.post0)\n",
      "Requirement already satisfied: sniffio>=1.3.0 in c:\\users\\sujay das\\anaconda3\\lib\\site-packages (from trio~=0.30.0->selenium) (1.3.0)\n",
      "Requirement already satisfied: cffi>=1.14 in c:\\users\\sujay das\\anaconda3\\lib\\site-packages (from trio~=0.30.0->selenium) (1.17.1)\n",
      "Requirement already satisfied: wsproto>=0.14 in c:\\users\\sujay das\\anaconda3\\lib\\site-packages (from trio-websocket~=0.12.2->selenium) (1.2.0)\n",
      "Requirement already satisfied: pysocks!=1.5.7,<2.0,>=1.5.6 in c:\\users\\sujay das\\anaconda3\\lib\\site-packages (from urllib3[socks]~=2.4.0->selenium) (1.7.1)\n",
      "Requirement already satisfied: pycparser in c:\\users\\sujay das\\anaconda3\\lib\\site-packages (from cffi>=1.14->trio~=0.30.0->selenium) (2.21)\n",
      "Requirement already satisfied: h11<1,>=0.9.0 in c:\\users\\sujay das\\anaconda3\\lib\\site-packages (from wsproto>=0.14->trio-websocket~=0.12.2->selenium) (0.14.0)\n"
     ]
    }
   ],
   "source": [
    "!pip install selenium"
   ]
  },
  {
   "cell_type": "code",
   "execution_count": 140,
   "id": "8be8925e-b177-40f7-99a7-ce67c5e9cf71",
   "metadata": {},
   "outputs": [],
   "source": [
    "from selenium.webdriver.common.by import By\n",
    "from selenium import webdriver\n",
    "import pandas as pd\n",
    "from time import sleep\n"
   ]
  },
  {
   "cell_type": "markdown",
   "id": "d6469bb7-0479-4e21-bbf4-7120342a85eb",
   "metadata": {},
   "source": [
    "## Set Path for Chrome Driver"
   ]
  },
  {
   "cell_type": "code",
   "execution_count": 125,
   "id": "f1380757-aa68-4c73-b311-e1953470169d",
   "metadata": {},
   "outputs": [],
   "source": [
    "browser = webdriver.Chrome()"
   ]
  },
  {
   "cell_type": "code",
   "execution_count": 126,
   "id": "5ceddc24-df2f-44b0-b74d-66bfc99999b5",
   "metadata": {},
   "outputs": [],
   "source": [
    "url= \"https://www.amazon.in\""
   ]
  },
  {
   "cell_type": "code",
   "execution_count": 127,
   "id": "3732f455-3549-4c95-b9a2-d63d93f33b4c",
   "metadata": {},
   "outputs": [],
   "source": [
    "# oening the window\n",
    "browser.get(url)\n",
    "browser.maximize_window()"
   ]
  },
  {
   "cell_type": "code",
   "execution_count": 128,
   "id": "a13559f0-1357-422b-99a8-25081c625822",
   "metadata": {},
   "outputs": [],
   "source": [
    "# Getting the Input Elements\n",
    "input_search = browser.find_element(By.ID,'twotabsearchtextbox')\n",
    "search_button = browser.find_element(By.ID, 'nav-search-submit-button')"
   ]
  },
  {
   "cell_type": "code",
   "execution_count": 129,
   "id": "77bcc9d7-063e-43ea-a0aa-572267c328c4",
   "metadata": {},
   "outputs": [],
   "source": [
    "# SEnding the Inputs to the web page for an automation\n",
    "input_search.send_keys('Smart Phones Under 10000')\n",
    "sleep(1)\n",
    "search_button.click()"
   ]
  },
  {
   "cell_type": "code",
   "execution_count": 130,
   "id": "6c2e5b1b-8ebe-4bc9-8cae-ced9d5a21eb6",
   "metadata": {},
   "outputs": [],
   "source": [
    "product_class = 'a-size-medium a-spacing-none a-color-base a-text-normal'\n",
    "nxt_bttn = 's-pagination-item s-pagination-next s-pagination-button s-pagination-button-accessibility s-pagination-separator'"
   ]
  },
  {
   "cell_type": "markdown",
   "id": "1fde960d-b2c9-4c97-bc71-56f9b00ab9f2",
   "metadata": {},
   "source": [
    "## Scrape Products of Amazon"
   ]
  },
  {
   "cell_type": "code",
   "execution_count": 133,
   "id": "6b96475c-4e3e-488e-bb64-04844e14ba0b",
   "metadata": {},
   "outputs": [
    {
     "name": "stdout",
     "output_type": "stream",
     "text": [
      "Scraping Page 1\n",
      "Scraping Page 2\n",
      "Scraping Page 3\n",
      "Scraping Page 4\n",
      "Scraping Page 5\n",
      "Scraping Page 6\n",
      "Scraping Page 7\n",
      "Scraping Page 8\n",
      "Scraping Page 9\n",
      "Scraping Page 10\n",
      "No next button found or it's disabled. Ending pagination.\n"
     ]
    }
   ],
   "source": [
    "products = []\n",
    "\n",
    "for i in range(10):\n",
    "    print('Scraping Page', i+1)\n",
    "    \n",
    "    product_elements = browser.find_elements(By.XPATH, \"//h2[contains(@class, 'a-size-medium') and contains(@class, 'a-text-normal')]/span\")\n",
    "    \n",
    "    for p in product_elements:\n",
    "        products.append(p.text)\n",
    "    \n",
    "    try:\n",
    "        next_bttn = browser.find_element(By.XPATH, \"//a[contains(@class, 's-pagination-next') and not(contains(@class, 's-pagination-disabled'))]\")\n",
    "        next_bttn.click()\n",
    "        sleep(2)\n",
    "    except NoSuchElementException:\n",
    "        print(\"No next button found or it's disabled. Ending pagination.\")\n",
    "        break"
   ]
  },
  {
   "cell_type": "code",
   "execution_count": 134,
   "id": "ddbd4ac5-2576-40d1-b141-1a37db0522a1",
   "metadata": {},
   "outputs": [
    {
     "data": {
      "text/plain": [
       "189"
      ]
     },
     "execution_count": 134,
     "metadata": {},
     "output_type": "execute_result"
    }
   ],
   "source": [
    "len(products)"
   ]
  },
  {
   "cell_type": "code",
   "execution_count": 136,
   "id": "875f4867-baab-4521-85f0-8348cedcfd18",
   "metadata": {},
   "outputs": [
    {
     "data": {
      "text/plain": [
       "['Samsung Galaxy M35 5G (Thunder Grey,8GB RAM,256GB Storage)| Corning Gorilla Glass Victus+| AnTuTu Score 595K+ | Vapour Cooling Chamber | 6000mAh Battery | 120Hz Super AMOLED Display| Without Charger',\n",
       " 'Xiaomi 15 (White, 12GB/512GB)| 50 MP Leica Triple Camera | SD 8 Elite | 1.5K CrystalRes Dynamic 1-120 Hz AMOLED | Hyper AI',\n",
       " 'Portronics Bridge Y USB 3.0 to Type C OTG Adaptor, 10Gbps High Speed Data Transfer, Thunderbolt to USB Adapter, Compatible for All Type C Devices, Smartphone, Laptops, Tablets, Chargers, MacBook',\n",
       " 'Kratos Type C Headphones with Mic, White in-Ear Design, 12mm Driver for Deep Bass and Clear Sound, C Type Earphones Wired, Compatible with iPhone, Android Smartphones, Tablets, and USB C Devices',\n",
       " 'Amazon Basics 3110 Aluminium Lightweight Tripod with Mobile Phone Holder Mount & Carry Bag for All Smartphone, GoPro, Cameras']"
      ]
     },
     "execution_count": 136,
     "metadata": {},
     "output_type": "execute_result"
    }
   ],
   "source": [
    "products[:5]"
   ]
  },
  {
   "cell_type": "markdown",
   "id": "6e3c68ad-112b-4f98-b96e-1e3bd1770a89",
   "metadata": {},
   "source": [
    "## Storing the Data"
   ]
  },
  {
   "cell_type": "code",
   "execution_count": 142,
   "id": "c586665f-1070-47f3-bd17-0120cb89549a",
   "metadata": {},
   "outputs": [
    {
     "name": "stdout",
     "output_type": "stream",
     "text": [
      "                                Data_of_Smart_Phones\n",
      "0  Samsung Galaxy M35 5G (Thunder Grey,8GB RAM,25...\n",
      "1  Xiaomi 15 (White, 12GB/512GB)| 50 MP Leica Tri...\n",
      "2  Portronics Bridge Y USB 3.0 to Type C OTG Adap...\n",
      "3  Kratos Type C Headphones with Mic, White in-Ea...\n",
      "4  Amazon Basics 3110 Aluminium Lightweight Tripo...\n"
     ]
    }
   ],
   "source": [
    "data = pd.DataFrame({'Data_of_Smart_Phones': products})\n",
    "print(data.head())"
   ]
  },
  {
   "cell_type": "code",
   "execution_count": 144,
   "id": "d5d3ebfe-696c-4034-9cee-d453317f2781",
   "metadata": {},
   "outputs": [],
   "source": [
    "#Saving the data in csv\n",
    "data.to_csv('SmartPhones.csv',index=False)"
   ]
  },
  {
   "cell_type": "code",
   "execution_count": null,
   "id": "d07acce4-d522-41fa-b18d-df1cb0f06255",
   "metadata": {},
   "outputs": [],
   "source": []
  }
 ],
 "metadata": {
  "kernelspec": {
   "display_name": "Python 3 (ipykernel)",
   "language": "python",
   "name": "python3"
  },
  "language_info": {
   "codemirror_mode": {
    "name": "ipython",
    "version": 3
   },
   "file_extension": ".py",
   "mimetype": "text/x-python",
   "name": "python",
   "nbconvert_exporter": "python",
   "pygments_lexer": "ipython3",
   "version": "3.12.7"
  }
 },
 "nbformat": 4,
 "nbformat_minor": 5
}
